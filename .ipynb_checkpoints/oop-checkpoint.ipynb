{
 "cells": [
  {
   "cell_type": "code",
   "execution_count": null,
   "id": "96a2e82f",
   "metadata": {},
   "outputs": [],
   "source": [
    "class\n",
    "object\n",
    "method"
   ]
  },
  {
   "cell_type": "code",
   "execution_count": null,
   "id": "3b2322c7",
   "metadata": {},
   "outputs": [],
   "source": [
    "class Hello:      #class \n",
    "    pass \n"
   ]
  },
  {
   "cell_type": "code",
   "execution_count": null,
   "id": "b2a7e876",
   "metadata": {},
   "outputs": [],
   "source": [
    "obj = Hello()    #object\n"
   ]
  },
  {
   "cell_type": "code",
   "execution_count": 1,
   "id": "fe5a3496",
   "metadata": {},
   "outputs": [
    {
     "name": "stdout",
     "output_type": "stream",
     "text": [
      "Hello World\n"
     ]
    }
   ],
   "source": [
    "class Hello:\n",
    "    print(\"Hello World\")\n",
    "    \n",
    "obj = Hello()    "
   ]
  },
  {
   "cell_type": "code",
   "execution_count": 9,
   "id": "65dca9f8",
   "metadata": {},
   "outputs": [
    {
     "name": "stdout",
     "output_type": "stream",
     "text": [
      "Hello World\n"
     ]
    }
   ],
   "source": [
    "class Hello:                    #class\n",
    "         def hello(self):        #method\n",
    "            print(\"Hello World\")\n",
    "    \n",
    "obj = Hello()                     #object\n",
    "obj.hello()\n"
   ]
  },
  {
   "cell_type": "code",
   "execution_count": 10,
   "id": "dab3d056",
   "metadata": {},
   "outputs": [
    {
     "name": "stdout",
     "output_type": "stream",
     "text": [
      "Hello World\n"
     ]
    }
   ],
   "source": [
    "class Hello:                    #class\n",
    "        @staticmethod           #decorator\n",
    "        def hello():             #method\n",
    "            print(\"Hello World\")\n",
    "    \n",
    "obj = Hello()                     #object\n",
    "obj.hello()"
   ]
  },
  {
   "cell_type": "code",
   "execution_count": 12,
   "id": "429a67c4",
   "metadata": {},
   "outputs": [
    {
     "name": "stdout",
     "output_type": "stream",
     "text": [
      "40\n",
      "80\n"
     ]
    }
   ],
   "source": [
    "class cal:\n",
    "    @staticmethod\n",
    "    def area(l,b):\n",
    "        a = l*b\n",
    "        return a\n",
    "    @staticmethod\n",
    "    \n",
    "    def volume(l,b,h):\n",
    "        v = l*b*h\n",
    "        return v\n",
    "    \n",
    "obj = cal()\n",
    "print(obj.area(10,4))\n",
    "print(obj.volume(10,4,2))\n",
    "\n",
    "    "
   ]
  },
  {
   "cell_type": "code",
   "execution_count": 2,
   "id": "015fb7e4",
   "metadata": {},
   "outputs": [
    {
     "name": "stdout",
     "output_type": "stream",
     "text": [
      "40\n",
      "80\n"
     ]
    }
   ],
   "source": [
    "class cal:\n",
    "    def area(self,l,b):\n",
    "        a = l*b\n",
    "        return a\n",
    "   \n",
    "    def volume(self,l,b,h):\n",
    "        v = l*b*h\n",
    "        return v\n",
    "        \n",
    "obj = cal()\n",
    "print(obj.area(10,4))\n",
    "print(obj.volume(10,4,2))       \n",
    "   \n"
   ]
  },
  {
   "cell_type": "code",
   "execution_count": 4,
   "id": "e22074e7",
   "metadata": {},
   "outputs": [
    {
     "name": "stdout",
     "output_type": "stream",
     "text": [
      "Enter l = 2\n",
      "Enter b = 4\n",
      "Enter h = 5\n",
      "8\n",
      "40\n"
     ]
    }
   ],
   "source": [
    "class cal:\n",
    "    def area(self,l,b):\n",
    "        a = l*b\n",
    "        print(a)\n",
    "   \n",
    "    def volume(self,l,b,h):\n",
    "        v = l*b*h\n",
    "        print(v)\n",
    "   \n",
    "l = int(input(\"Enter l = \"))\n",
    "b = int(input(\"Enter b = \"))\n",
    "h = int(input(\"Enter h = \"))\n",
    "\n",
    "obj = cal()\n",
    "obj.area(l,b)\n",
    "obj.volume(l,b,h)\n"
   ]
  },
  {
   "cell_type": "code",
   "execution_count": 12,
   "id": "cf3dd6c1",
   "metadata": {},
   "outputs": [
    {
     "name": "stdout",
     "output_type": "stream",
     "text": [
      "40\n",
      "80\n"
     ]
    }
   ],
   "source": [
    "class cal:\n",
    "    def __init__(self,l,b):\n",
    "        self.l = l\n",
    "        self.b = b\n",
    "        \n",
    "    def area(self):\n",
    "        a = self.l*self.b\n",
    "        return a\n",
    "        \n",
    "    \n",
    "    def volume(self,h):\n",
    "        v = self.l*self.b*h\n",
    "        return v\n",
    "    \n",
    "obj = cal(10,4)\n",
    "print(obj.area())\n",
    "print(obj.volume(2))\n",
    "   "
   ]
  },
  {
   "cell_type": "code",
   "execution_count": 16,
   "id": "25041bf4",
   "metadata": {},
   "outputs": [
    {
     "name": "stdout",
     "output_type": "stream",
     "text": [
      "40\n",
      "80\n"
     ]
    }
   ],
   "source": [
    "class Area:\n",
    "    def __init__(self,l,b):\n",
    "        self.l = l\n",
    "        self.b = b\n",
    "        \n",
    "    def area(self):\n",
    "        a = self.l*self.b\n",
    "        return a\n",
    "\n",
    "class Volume:\n",
    "    def __init__(self,l,b,h):\n",
    "        self.l = l\n",
    "        self.b = b\n",
    "        self.h = h\n",
    "        \n",
    "    def volume(self,h):\n",
    "        v = self.l*self.b*self.h\n",
    "        return v\n",
    "    \n",
    "    \n",
    "obj1 = Area(10,4)\n",
    "obj2 = Volume(10,4,2)\n",
    "print(obj1.area())\n",
    "print(obj2.volume(2))\n",
    "   \n",
    "            \n",
    "        "
   ]
  },
  {
   "cell_type": "code",
   "execution_count": 25,
   "id": "59e8fa6b",
   "metadata": {},
   "outputs": [
    {
     "name": "stdout",
     "output_type": "stream",
     "text": [
      "enter name =susmita\n",
      "enter age = 11\n",
      "enter add =ktm\n",
      "susmita\n",
      "Hello world I am susmita. I am form ktm. I am 11\n",
      "<class '__main__.Info'>\n",
      "<class 'str'>\n"
     ]
    }
   ],
   "source": [
    "class Info:\n",
    "    def __init__(self,name,age,add):\n",
    "        self.name = name\n",
    "        self.age = age\n",
    "        self.add = add\n",
    "        \n",
    "    def info(self):\n",
    "        return f\"Hello world I am {self.name}. I am form {self.add}. I am {self.age}\"\n",
    "        \n",
    "    def __str__(self):          \n",
    "        return self.name\n",
    "    \n",
    "name =input(\"enter name =\") \n",
    "age = int(input(\"enter age = \"))\n",
    "add = input(\"enter add =\")  \n",
    "\n",
    "obj = Info(name,age,add)\n",
    "print (obj)\n",
    "print(obj.info())\n",
    "\n",
    "print(type(obj))\n",
    "print(type(obj.info()))\n",
    "\n",
    "\n",
    "\n",
    "\n",
    " \n",
    "        \n",
    "\n",
    "\n",
    "\n",
    "\n"
   ]
  },
  {
   "cell_type": "code",
   "execution_count": 27,
   "id": "f97c99ab",
   "metadata": {},
   "outputs": [
    {
     "name": "stdout",
     "output_type": "stream",
     "text": [
      "enter name =ss\n",
      "enter age = 11\n",
      "enter add =kk\n",
      "ss\n",
      "ss\n",
      "ss\n",
      "Hello world I am ss. I am form kk. I am 11\n",
      "<class '__main__.Info'>\n",
      "<class 'str'>\n"
     ]
    }
   ],
   "source": [
    "class Info:\n",
    "    def __init__(self,name,age,add):\n",
    "        self.name = name\n",
    "        self.age = age\n",
    "        self.add = add\n",
    "        \n",
    "    def info(self):\n",
    "        return f\"Hello world I am {self.name}. I am form {self.add}. I am {self.age}\"\n",
    "        \n",
    "    def __str__(self):          \n",
    "        return self.name\n",
    "    \n",
    "name =input(\"enter name =\") \n",
    "age = int(input(\"enter age = \"))\n",
    "add = input(\"enter add =\")  \n",
    "\n",
    "obj = Info(name,age,add)\n",
    "print (obj)\n",
    "print(obj.__str__())\n",
    "print(str(obj))\n",
    "print(obj.info())\n",
    "\n",
    "print(type(obj))\n",
    "print(type(obj.info()))"
   ]
  },
  {
   "cell_type": "code",
   "execution_count": null,
   "id": "aa4ccefb",
   "metadata": {},
   "outputs": [],
   "source": []
  }
 ],
 "metadata": {
  "kernelspec": {
   "display_name": "Python 3 (ipykernel)",
   "language": "python",
   "name": "python3"
  },
  "language_info": {
   "codemirror_mode": {
    "name": "ipython",
    "version": 3
   },
   "file_extension": ".py",
   "mimetype": "text/x-python",
   "name": "python",
   "nbconvert_exporter": "python",
   "pygments_lexer": "ipython3",
   "version": "3.9.12"
  }
 },
 "nbformat": 4,
 "nbformat_minor": 5
}
