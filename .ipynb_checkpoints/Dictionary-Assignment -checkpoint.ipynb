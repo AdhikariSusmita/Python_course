{
 "cells": [
  {
   "cell_type": "code",
   "execution_count": null,
   "id": "a8e1b4d0",
   "metadata": {},
   "outputs": [],
   "source": [
    "# wap to create following type and perform crud\n",
    "#d = {\"name\":[\"ram\",\"hari\",\"sita\"],\"age\":[23,43,45],\"address:[\"kathmandu\",\"bara\",\"laliptur\"]}\n",
    "     \n",
    "#a = [{'name': 'ram', 'age': 5, 'address': 'kathmandu'},\n",
    "      {'name': 'ram', 'age': 5, 'address': 'kathmandu}]\n",
    "    "
   ]
  },
  {
   "cell_type": "code",
   "execution_count": 1,
   "id": "49d8e94f",
   "metadata": {},
   "outputs": [
    {
     "name": "stdout",
     "output_type": "stream",
     "text": [
      "enter n=2\n",
      "enter name=susmita\n",
      "enter name=shrayan\n",
      "enter age =22\n",
      "enter age =10\n",
      "enter add =kathmandu\n",
      "enter add =chitwan\n"
     ]
    },
    {
     "data": {
      "text/plain": [
       "{'Name': ['susmita', 'shrayan'],\n",
       " 'age': [22, 10],\n",
       " 'address': ['kathmandu', 'chitwan']}"
      ]
     },
     "execution_count": 1,
     "metadata": {},
     "output_type": "execute_result"
    }
   ],
   "source": [
    "# create\n",
    "\n",
    "d = {}\n",
    "na =[]\n",
    "n = int(input(\"enter n=\"))\n",
    "for i in range(n):\n",
    "    name = input(\"enter name=\")\n",
    "    info =name \n",
    "    na.append(info)\n",
    "    d[\"Name\"] = na \n",
    "d    \n",
    "\n",
    "\n",
    "ag =[]\n",
    "for i in range(n):\n",
    "    age = int(input(\"enter age =\"))\n",
    "    info = age\n",
    "    ag.append(info)\n",
    "    d[\"age\"] = ag\n",
    "d    \n",
    "    \n",
    "\n",
    "ad =[]\n",
    "for i in range(n):\n",
    "    add = input(\"enter add =\")\n",
    "    info = add\n",
    "    ad.append(info)\n",
    "    d[\"address\"] = ad\n",
    "    \n",
    "d    \n",
    "\n",
    "\n",
    "\n",
    "\n",
    "    \n"
   ]
  },
  {
   "cell_type": "code",
   "execution_count": null,
   "id": "39bcb2bf",
   "metadata": {},
   "outputs": [],
   "source": []
  }
 ],
 "metadata": {
  "kernelspec": {
   "display_name": "Python 3 (ipykernel)",
   "language": "python",
   "name": "python3"
  },
  "language_info": {
   "codemirror_mode": {
    "name": "ipython",
    "version": 3
   },
   "file_extension": ".py",
   "mimetype": "text/x-python",
   "name": "python",
   "nbconvert_exporter": "python",
   "pygments_lexer": "ipython3",
   "version": "3.9.12"
  }
 },
 "nbformat": 4,
 "nbformat_minor": 5
}
