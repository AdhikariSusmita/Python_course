{
 "cells": [
  {
   "cell_type": "code",
   "execution_count": null,
   "id": "30a5a8e7",
   "metadata": {},
   "outputs": [],
   "source": [
    "#basic python collection\n",
    "1. list\n",
    "2.Tuple\n",
    "3.Dictionary\n",
    "4.set\n"
   ]
  },
  {
   "cell_type": "code",
   "execution_count": null,
   "id": "b1421e1c",
   "metadata": {},
   "outputs": [],
   "source": [
    "##List\n",
    "-Indexed\n",
    "-Multiple and duplicate data\n",
    "-ordered\n",
    "-mutable"
   ]
  },
  {
   "cell_type": "code",
   "execution_count": 3,
   "id": "cdd92383",
   "metadata": {},
   "outputs": [
    {
     "name": "stdout",
     "output_type": "stream",
     "text": [
      "['Apple', 'ball', 'cat', 'dog']\n",
      "[1, 2, 3, 4, 5, 6, 7, 8, 9, 10]\n",
      "<class 'list'>\n",
      "<class 'list'>\n"
     ]
    }
   ],
   "source": [
    "a = [\"Apple\",\"ball\", \"cat\" , \"dog\"]\n",
    "b = [1,2,3,4,5,6,7,8,9,10] \n",
    "print(a)\n",
    "print(b)\n",
    "print(type(a))  \n",
    "print(type(b))  \n",
    "        \n",
    "     "
   ]
  },
  {
   "cell_type": "code",
   "execution_count": 4,
   "id": "3098fbce",
   "metadata": {},
   "outputs": [
    {
     "name": "stdout",
     "output_type": "stream",
     "text": [
      "Apple\n"
     ]
    }
   ],
   "source": [
    "print(a[0])"
   ]
  },
  {
   "cell_type": "code",
   "execution_count": 5,
   "id": "3f6c4e9f",
   "metadata": {},
   "outputs": [
    {
     "name": "stdout",
     "output_type": "stream",
     "text": [
      "['Apple', 'ball', 'cat', 'dog']\n"
     ]
    }
   ],
   "source": [
    "print(a[0:4])"
   ]
  },
  {
   "cell_type": "code",
   "execution_count": 7,
   "id": "09e95d46",
   "metadata": {},
   "outputs": [
    {
     "name": "stdout",
     "output_type": "stream",
     "text": [
      "['Apple', 'cat']\n"
     ]
    }
   ],
   "source": [
    "print(a[0:4:2])"
   ]
  },
  {
   "cell_type": "code",
   "execution_count": 8,
   "id": "f7968d58",
   "metadata": {},
   "outputs": [
    {
     "data": {
      "text/plain": [
       "['Apple', 'ball', 'cat', 'dog', 'Apple']"
      ]
     },
     "execution_count": 8,
     "metadata": {},
     "output_type": "execute_result"
    }
   ],
   "source": [
    "a = [\"Apple\",\"ball\", \"cat\" , \"dog\" ,\"Apple\"]\n",
    "a"
   ]
  },
  {
   "cell_type": "code",
   "execution_count": 9,
   "id": "e5297456",
   "metadata": {},
   "outputs": [
    {
     "name": "stdout",
     "output_type": "stream",
     "text": [
      "['Apple', 'ball', 'cat', 'dog', 'fish', 'dog']\n"
     ]
    }
   ],
   "source": [
    "#ordered (concat)\n",
    "a = [\"Apple\",\"ball\", \"cat\" , \"dog\"]\n",
    "b = [\"fish\" , \"dog\"]\n",
    "c = a+b\n",
    "print(c)\n",
    "\n"
   ]
  },
  {
   "cell_type": "code",
   "execution_count": 13,
   "id": "7dd7468a",
   "metadata": {},
   "outputs": [
    {
     "name": "stdout",
     "output_type": "stream",
     "text": [
      "Apple\n",
      "ball\n",
      "cat\n",
      "dog\n",
      "Apple\n"
     ]
    }
   ],
   "source": [
    "a = [\"Apple\",\"ball\", \"cat\" , \"dog\" ,\"Apple\"]\n",
    "for i in a:\n",
    "    print(i)"
   ]
  },
  {
   "cell_type": "code",
   "execution_count": null,
   "id": "1ff8f22c",
   "metadata": {},
   "outputs": [],
   "source": [
    " #function\n",
    " 1. append()\n",
    "  2.insert()\n",
    "    3.extend()"
   ]
  },
  {
   "cell_type": "code",
   "execution_count": 14,
   "id": "4347576a",
   "metadata": {},
   "outputs": [
    {
     "name": "stdout",
     "output_type": "stream",
     "text": [
      "['apple']\n"
     ]
    }
   ],
   "source": [
    "a = []\n",
    "# a=list()\n",
    "a.append(\"apple\")\n",
    "print(a)"
   ]
  },
  {
   "cell_type": "code",
   "execution_count": 16,
   "id": "e75b8075",
   "metadata": {},
   "outputs": [
    {
     "data": {
      "text/plain": [
       "['apple', 'ball']"
      ]
     },
     "execution_count": 16,
     "metadata": {},
     "output_type": "execute_result"
    }
   ],
   "source": [
    "a = []\n",
    "# a=list()\n",
    "a.append(\"apple\")\n",
    "a.append(\"ball\")\n",
    "a\n"
   ]
  },
  {
   "cell_type": "code",
   "execution_count": 4,
   "id": "5708180b",
   "metadata": {},
   "outputs": [
    {
     "name": "stdout",
     "output_type": "stream",
     "text": [
      "enter n=2\n",
      "enter x=1\n",
      "enter x=4\n",
      "[1, 4]\n"
     ]
    }
   ],
   "source": [
    "data =[]\n",
    "\n",
    "n = int(input(\"enter n=\"))\n",
    "for i in range(n):\n",
    "    x = int(input(\"enter x=\"))\n",
    "    data.append(x)\n",
    "    \n",
    "print( data)    "
   ]
  },
  {
   "cell_type": "code",
   "execution_count": 5,
   "id": "6fef5666",
   "metadata": {},
   "outputs": [
    {
     "name": "stdout",
     "output_type": "stream",
     "text": [
      "the sum of value =  5\n",
      "the max no of list =  4\n",
      "the min value of list =  1\n",
      "the avg of the values inside list  2.5\n"
     ]
    }
   ],
   "source": [
    "print(\"the sum of value = \",sum(data))\n",
    "print(\"the max no of list = \",max(data))\n",
    "print(\"the min value of list = \",min(data))\n",
    "print(\"the avg of the values inside list \",sum(data)/n)"
   ]
  },
  {
   "cell_type": "code",
   "execution_count": 6,
   "id": "cc75a81e",
   "metadata": {},
   "outputs": [
    {
     "name": "stdout",
     "output_type": "stream",
     "text": [
      "[1, 4]\n"
     ]
    }
   ],
   "source": [
    "\n",
    "data.sort()\n",
    "print(data)"
   ]
  },
  {
   "cell_type": "code",
   "execution_count": 7,
   "id": "e4322b15",
   "metadata": {},
   "outputs": [
    {
     "data": {
      "text/plain": [
       "[4, 1]"
      ]
     },
     "execution_count": 7,
     "metadata": {},
     "output_type": "execute_result"
    }
   ],
   "source": [
    "data.reverse()\n",
    "data"
   ]
  },
  {
   "cell_type": "code",
   "execution_count": 4,
   "id": "1a839444",
   "metadata": {},
   "outputs": [
    {
     "data": {
      "text/plain": [
       "['b', 'c', 'd', 'z']"
      ]
     },
     "execution_count": 4,
     "metadata": {},
     "output_type": "execute_result"
    }
   ],
   "source": [
    "a = [\"z\",\"b\",\"c\",\"d\"]\n",
    "a.sort()\n",
    "a"
   ]
  },
  {
   "cell_type": "code",
   "execution_count": 5,
   "id": "0a15d79c",
   "metadata": {},
   "outputs": [
    {
     "data": {
      "text/plain": [
       "['1d', 'b', 'c', 'd', 'z']"
      ]
     },
     "execution_count": 5,
     "metadata": {},
     "output_type": "execute_result"
    }
   ],
   "source": [
    "a = [\"z\",\"b\",\"c\",\"d\",\"1d\"]\n",
    "a.sort()\n",
    "a"
   ]
  },
  {
   "cell_type": "code",
   "execution_count": 1,
   "id": "921f4c02",
   "metadata": {},
   "outputs": [
    {
     "data": {
      "text/plain": [
       "['zebra', 'apple', 'apple', 'banana', 'dog', 'fish']"
      ]
     },
     "execution_count": 1,
     "metadata": {},
     "output_type": "execute_result"
    }
   ],
   "source": [
    "#insert()\n",
    "a = [\"zebra\",\"apple\",\"banana\",\"dog\",\"fish\"]\n",
    "a.insert(1,\"apple\")\n",
    "a\n",
    "\n"
   ]
  },
  {
   "cell_type": "code",
   "execution_count": 1,
   "id": "2ddd473a",
   "metadata": {},
   "outputs": [
    {
     "data": {
      "text/plain": [
       "['apple', 'banana', 'fish', 1, 2, 3, 4, 5]"
      ]
     },
     "execution_count": 1,
     "metadata": {},
     "output_type": "execute_result"
    }
   ],
   "source": [
    "#extend\n",
    "\n",
    "a = [1,2,3,4,5]\n",
    "b = [\"apple\",\"banana\",\"fish\"]\n",
    "b.extend(a)\n",
    "b\n"
   ]
  },
  {
   "cell_type": "code",
   "execution_count": 8,
   "id": "7077d5d5",
   "metadata": {},
   "outputs": [
    {
     "data": {
      "text/plain": [
       "['APPLE', 'apple', 'banana', 'dog', 'fish']"
      ]
     },
     "execution_count": 8,
     "metadata": {},
     "output_type": "execute_result"
    }
   ],
   "source": [
    "a = [\"zebra\",\"apple\",\"banana\",\"dog\",\"fish\"]\n",
    "a[0] = \"APPLE\"\n",
    "a"
   ]
  },
  {
   "cell_type": "code",
   "execution_count": 2,
   "id": "2707a7a0",
   "metadata": {},
   "outputs": [
    {
     "data": {
      "text/plain": [
       "['Banana', 'ZEBRA', 'banana', 'dog', 'fish']"
      ]
     },
     "execution_count": 2,
     "metadata": {},
     "output_type": "execute_result"
    }
   ],
   "source": [
    "a = [\"zebra\",\"apple\",\"banana\",\"dog\",\"fish\"]\n",
    "a[0:2] = [\"Banana\",\"ZEBRA\"]\n",
    "a"
   ]
  },
  {
   "cell_type": "code",
   "execution_count": 1,
   "id": "8f9e2cf6",
   "metadata": {},
   "outputs": [
    {
     "name": "stdout",
     "output_type": "stream",
     "text": [
      "['apple', 'banana', 'dog', 'fish']\n"
     ]
    }
   ],
   "source": [
    "# del remove() pop()\n",
    "a = [\"zebra\",\"apple\",\"banana\",\"dog\",\"fish\"]\n",
    "del a[0]\n",
    "print(a)\n",
    "\n"
   ]
  },
  {
   "cell_type": "code",
   "execution_count": 2,
   "id": "c1cc8ecf",
   "metadata": {},
   "outputs": [
    {
     "name": "stdout",
     "output_type": "stream",
     "text": [
      "['dog', 'fish']\n"
     ]
    }
   ],
   "source": [
    "a = [\"zebra\",\"apple\",\"banana\",\"dog\",\"fish\"]\n",
    "del a[0:3]\n",
    "print(a)\n"
   ]
  },
  {
   "cell_type": "code",
   "execution_count": 3,
   "id": "007f5d0e",
   "metadata": {},
   "outputs": [
    {
     "data": {
      "text/plain": [
       "1"
      ]
     },
     "execution_count": 3,
     "metadata": {},
     "output_type": "execute_result"
    }
   ],
   "source": [
    "a = [\"zebra\",\"apple\",\"banana\",\"dog\",\"fish\"]\n",
    "a.index(\"apple\")\n"
   ]
  },
  {
   "cell_type": "code",
   "execution_count": 2,
   "id": "a22a55c2",
   "metadata": {},
   "outputs": [
    {
     "name": "stdout",
     "output_type": "stream",
     "text": [
      "['zebra', 'apple', 'banana', 'fish']\n"
     ]
    }
   ],
   "source": [
    "#remove\n",
    "a = [\"zebra\",\"apple\",\"banana\",\"dog\",\"fish\"]\n",
    "a.remove(\"dog\")\n",
    "print(a)"
   ]
  },
  {
   "cell_type": "code",
   "execution_count": 3,
   "id": "9254c3c2",
   "metadata": {},
   "outputs": [
    {
     "data": {
      "text/plain": [
       "['zebra', 'apple', 'banana', 'dog']"
      ]
     },
     "execution_count": 3,
     "metadata": {},
     "output_type": "execute_result"
    }
   ],
   "source": [
    "#pop\n",
    "a = [\"zebra\",\"apple\",\"banana\",\"dog\",\"fish\"]\n",
    "a.pop()\n",
    "a"
   ]
  },
  {
   "cell_type": "code",
   "execution_count": 4,
   "id": "a99db8d4",
   "metadata": {},
   "outputs": [
    {
     "name": "stdout",
     "output_type": "stream",
     "text": [
      "['apple', 'banana', 'dog', 'fish']\n",
      "zebra\n"
     ]
    }
   ],
   "source": [
    "a = [\"zebra\",\"apple\",\"banana\",\"dog\",\"fish\"]\n",
    "b = a.pop(0)\n",
    "print(a)\n",
    "print(b)\n"
   ]
  },
  {
   "cell_type": "code",
   "execution_count": 5,
   "id": "10121ee9",
   "metadata": {},
   "outputs": [
    {
     "name": "stdout",
     "output_type": "stream",
     "text": [
      "['zebra', 'banana', 'dog', 'fish']\n"
     ]
    }
   ],
   "source": [
    "b = []\n",
    "a = [\"zebra\",\"apple\",\"banana\",\"dog\",\"fish\",\"apple\"]\n",
    "for i in a:\n",
    "    if i !=\"apple\":\n",
    "        b.append(i)\n",
    "print(b)        \n"
   ]
  },
  {
   "cell_type": "code",
   "execution_count": 7,
   "id": "ec7860ff",
   "metadata": {},
   "outputs": [
    {
     "name": "stdout",
     "output_type": "stream",
     "text": [
      "1\n",
      "5\n"
     ]
    }
   ],
   "source": [
    "b = []\n",
    "a = [\"zebra\",\"apple\",\"banana\",\"dog\",\"fish\",\"apple\"]\n",
    "for i in range(len(a)):\n",
    "    if a[i]== \"apple\":\n",
    "        print(i)\n",
    "         "
   ]
  },
  {
   "cell_type": "code",
   "execution_count": 8,
   "id": "16a7f1b8",
   "metadata": {},
   "outputs": [
    {
     "name": "stdout",
     "output_type": "stream",
     "text": [
      "yes 2\n"
     ]
    }
   ],
   "source": [
    "a = [\"zebra\",\"apple\",\"banana\",\"dog\",\"fish\",\"apple\"]\n",
    "if \"apple\" in a:\n",
    "    print (\"yes\", a.count(\"apple\"))\n",
    "    \n",
    "else:\n",
    "    print(\"no\")\n",
    "\n"
   ]
  },
  {
   "cell_type": "code",
   "execution_count": 11,
   "id": "acaf2bb9",
   "metadata": {},
   "outputs": [
    {
     "name": "stdout",
     "output_type": "stream",
     "text": [
      "[[1, 2, 3], [4, 5, 6], [7, 8, 9]]\n",
      "<class 'list'>\n",
      "3\n"
     ]
    }
   ],
   "source": [
    " # list inside list   \n",
    "a = [[1,2,3,],[4,5,6],[7,8,9]]\n",
    "print(a)\n",
    "print(type(a))\n",
    "print(len(a))\n",
    "     "
   ]
  },
  {
   "cell_type": "code",
   "execution_count": 12,
   "id": "318ae30a",
   "metadata": {},
   "outputs": [
    {
     "name": "stdout",
     "output_type": "stream",
     "text": [
      "[[1, 2, 3], [4, 5, 6], [7, 8, 9]]\n"
     ]
    }
   ],
   "source": [
    "print(a)"
   ]
  },
  {
   "cell_type": "code",
   "execution_count": 14,
   "id": "e49956e9",
   "metadata": {},
   "outputs": [
    {
     "name": "stdout",
     "output_type": "stream",
     "text": [
      "[1, 2, 3]\n"
     ]
    }
   ],
   "source": [
    "print(a[0])"
   ]
  },
  {
   "cell_type": "code",
   "execution_count": 15,
   "id": "316b7aec",
   "metadata": {},
   "outputs": [
    {
     "name": "stdout",
     "output_type": "stream",
     "text": [
      "1\n"
     ]
    }
   ],
   "source": [
    "print(a[0][0])"
   ]
  },
  {
   "cell_type": "code",
   "execution_count": 27,
   "id": "5eeed862",
   "metadata": {},
   "outputs": [
    {
     "name": "stdout",
     "output_type": "stream",
     "text": [
      "enter n =2\n",
      "enter name=ram\n",
      "enter age=3\n",
      "enter add=ktm\n",
      "enter name=hari\n",
      "enter age=2\n",
      "enter add=bhaktapur\n",
      "[['ram', 3, 'ktm'], ['hari', 2, 'bhaktapur']]\n"
     ]
    }
   ],
   "source": [
    "# wap to create a list inside list \n",
    "data = []\n",
    "n = int(input(\"enter n =\"))\n",
    "for i in range(n):\n",
    "    name = (input(\"enter name=\"))\n",
    "    age =int(input(\"enter age=\"))\n",
    "    add = (input(\"enter add=\"))\n",
    "    info= [name,age,add]\n",
    "    data.append(info)\n",
    "\n",
    "\n",
    "print(data)\n",
    "\n",
    "\n"
   ]
  },
  {
   "cell_type": "code",
   "execution_count": 28,
   "id": "9ffcb088",
   "metadata": {},
   "outputs": [
    {
     "data": {
      "text/plain": [
       "[['ram', 3, 'ktm'], ['hari', 2, 'bhaktapur'], ['ram', 3, 'kathmandu']]"
      ]
     },
     "execution_count": 28,
     "metadata": {},
     "output_type": "execute_result"
    }
   ],
   "source": [
    "data.append([\"ram\",3,\"kathmandu\"])\n",
    "data"
   ]
  },
  {
   "cell_type": "code",
   "execution_count": 31,
   "id": "33e84f38",
   "metadata": {},
   "outputs": [
    {
     "name": "stdout",
     "output_type": "stream",
     "text": [
      "enter name=ram\n",
      "['ram', 3, 'ktm']\n",
      "['ram', 3, 'kathmandu']\n"
     ]
    }
   ],
   "source": [
    "name =input(\"enter name=\")\n",
    "for i in data:\n",
    "    if name in i:\n",
    "        print(i)\n",
    "\n",
    "\n",
    "    "
   ]
  },
  {
   "cell_type": "code",
   "execution_count": 34,
   "id": "8e5911a7",
   "metadata": {},
   "outputs": [
    {
     "name": "stdout",
     "output_type": "stream",
     "text": [
      "enter name=ram\n",
      "['ram', 3, 'ktm']\n",
      "['ram', 3, 'kathmandu']\n"
     ]
    }
   ],
   "source": [
    "name =input(\"enter name=\").lower()\n",
    "for i in data:\n",
    "    if name in i[0].lower():\n",
    "        print(i)\n"
   ]
  },
  {
   "cell_type": "code",
   "execution_count": 37,
   "id": "b0e0d41e",
   "metadata": {},
   "outputs": [
    {
     "data": {
      "text/plain": [
       "[['Ramm', 20, 'kathmandu'], ['Hari', 10, 'bhaktapur']]"
      ]
     },
     "execution_count": 37,
     "metadata": {},
     "output_type": "execute_result"
    }
   ],
   "source": [
    "a = [[\"Ram\",20,\"kathmandu\"], [\"Hari\",10,\"bhaktapur\"]]\n",
    "a[0][0] = \"Ramm\"\n",
    "a"
   ]
  },
  {
   "cell_type": "code",
   "execution_count": 38,
   "id": "edb03b6a",
   "metadata": {},
   "outputs": [
    {
     "data": {
      "text/plain": [
       "[['Hari', 10, 'bhaktapur']]"
      ]
     },
     "execution_count": 38,
     "metadata": {},
     "output_type": "execute_result"
    }
   ],
   "source": [
    "a = [[\"Ram\",20,\"kathmandu\"], [\"Hari\",10,\"bhaktapur\"]]\n",
    "del a[0]\n",
    "a"
   ]
  },
  {
   "cell_type": "code",
   "execution_count": 39,
   "id": "b2eae111",
   "metadata": {},
   "outputs": [
    {
     "data": {
      "text/plain": [
       "[['Ramm', 10, 'kkk'], ['Hari', 10, 'bhaktapur']]"
      ]
     },
     "execution_count": 39,
     "metadata": {},
     "output_type": "execute_result"
    }
   ],
   "source": [
    "a = [[\"Ram\",20,\"kathmandu\"], [\"Hari\",10,\"bhaktapur\"]]\n",
    "a[0] = [\"Ramm\",10,\"kkk\"]\n",
    "a"
   ]
  },
  {
   "cell_type": "code",
   "execution_count": null,
   "id": "fcee4074",
   "metadata": {},
   "outputs": [],
   "source": [
    "# wap to create a matrix with given row and column    (using nested loop) \n",
    "[[1,2,3,],\n",
    " [4,5,6],\n",
    "[7,8,9]]"
   ]
  },
  {
   "cell_type": "code",
   "execution_count": 59,
   "id": "08186274",
   "metadata": {},
   "outputs": [
    {
     "name": "stdout",
     "output_type": "stream",
     "text": [
      "[1, 2, 3]\n",
      "[1, 2, 3]\n",
      "[4, 5, 6]\n",
      "[7, 8, 9]\n",
      "[4, 5, 6]\n",
      "[1, 2, 3]\n",
      "[4, 5, 6]\n",
      "[7, 8, 9]\n",
      "[7, 8, 9]\n",
      "[1, 2, 3]\n",
      "[4, 5, 6]\n",
      "[7, 8, 9]\n",
      "9\n"
     ]
    }
   ],
   "source": [
    "data = [[1,2,3,],\n",
    "        [4,5,6],\n",
    "        [7,8,9]]\n",
    "count = 0\n",
    "for i in range (len(data)):\n",
    "    print(data[i])   \n",
    "    for j in range(len(data[i])):\n",
    "        print(data[j])\n",
    "        a =data[i][j]\n",
    "print(a)       "
   ]
  },
  {
   "cell_type": "code",
   "execution_count": null,
   "id": "c60813c7",
   "metadata": {},
   "outputs": [],
   "source": []
  }
 ],
 "metadata": {
  "kernelspec": {
   "display_name": "Python 3 (ipykernel)",
   "language": "python",
   "name": "python3"
  },
  "language_info": {
   "codemirror_mode": {
    "name": "ipython",
    "version": 3
   },
   "file_extension": ".py",
   "mimetype": "text/x-python",
   "name": "python",
   "nbconvert_exporter": "python",
   "pygments_lexer": "ipython3",
   "version": "3.9.12"
  }
 },
 "nbformat": 4,
 "nbformat_minor": 5
}
