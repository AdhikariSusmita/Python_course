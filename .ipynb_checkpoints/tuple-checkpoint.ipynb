{
 "cells": [
  {
   "cell_type": "code",
   "execution_count": null,
   "id": "d1d763d5",
   "metadata": {},
   "outputs": [],
   "source": [
    "#tuple\n",
    "- indexed\n",
    "- ordered\n",
    "- duplicate and multiple values\n",
    "- imutable"
   ]
  },
  {
   "cell_type": "code",
   "execution_count": 1,
   "id": "9b425591",
   "metadata": {},
   "outputs": [
    {
     "name": "stdout",
     "output_type": "stream",
     "text": [
      "<class 'tuple'>\n",
      "<class 'tuple'>\n",
      "(1, 2, 3)\n",
      "('apple', 'ball', 'cat', 'dog')\n"
     ]
    }
   ],
   "source": [
    "a = (1,2,3)\n",
    "b =(\"apple\",\"ball\",\"cat\",\"dog\")\n",
    "print(type(a))\n",
    "print(type(b))\n",
    "print(a)\n",
    "print(b)"
   ]
  },
  {
   "cell_type": "code",
   "execution_count": 2,
   "id": "00c47448",
   "metadata": {},
   "outputs": [
    {
     "name": "stdout",
     "output_type": "stream",
     "text": [
      "apple\n"
     ]
    }
   ],
   "source": [
    "b =(\"apple\",\"ball\",\"cat\",\"dog\")\n",
    "print(b[0])"
   ]
  },
  {
   "cell_type": "code",
   "execution_count": 3,
   "id": "238f9ce1",
   "metadata": {},
   "outputs": [
    {
     "name": "stdout",
     "output_type": "stream",
     "text": [
      "('apple', 'ball')\n"
     ]
    }
   ],
   "source": [
    "b =(\"apple\",\"ball\",\"cat\",\"dog\")\n",
    "print(b[0:2])"
   ]
  },
  {
   "cell_type": "code",
   "execution_count": 4,
   "id": "62b1556e",
   "metadata": {},
   "outputs": [
    {
     "name": "stdout",
     "output_type": "stream",
     "text": [
      "(1, 2, 3, 4, 5, 'apple', 'ball', 'cat', 'dog')\n"
     ]
    }
   ],
   "source": [
    "b =(\"apple\",\"ball\",\"cat\",\"dog\")\n",
    "a =(1,2,3,4,5)\n",
    "c =a+b\n",
    "print(c)"
   ]
  },
  {
   "cell_type": "code",
   "execution_count": 5,
   "id": "6f23b211",
   "metadata": {},
   "outputs": [
    {
     "data": {
      "text/plain": [
       "('apple', 'ball', 'cat', 'dog', 'apple')"
      ]
     },
     "execution_count": 5,
     "metadata": {},
     "output_type": "execute_result"
    }
   ],
   "source": [
    "b =(\"apple\",\"ball\",\"cat\",\"dog\",\"apple\")\n",
    "b\n"
   ]
  },
  {
   "cell_type": "code",
   "execution_count": 6,
   "id": "f47e59f1",
   "metadata": {},
   "outputs": [
    {
     "name": "stdout",
     "output_type": "stream",
     "text": [
      "<class 'tuple'>\n",
      "(1, 2, 3)\n"
     ]
    }
   ],
   "source": [
    "a =(1,2,3)\n",
    "print(type(a))\n",
    "print(a)"
   ]
  },
  {
   "cell_type": "code",
   "execution_count": 7,
   "id": "cc04abf5",
   "metadata": {},
   "outputs": [
    {
     "name": "stdout",
     "output_type": "stream",
     "text": [
      "<class 'tuple'>\n",
      "(1,)\n"
     ]
    }
   ],
   "source": [
    "a =(1,)\n",
    "print(type(a))\n",
    "print(a)"
   ]
  },
  {
   "cell_type": "code",
   "execution_count": 8,
   "id": "1fe2e4a4",
   "metadata": {},
   "outputs": [
    {
     "name": "stdout",
     "output_type": "stream",
     "text": [
      "<class 'int'>\n",
      "1\n"
     ]
    }
   ],
   "source": [
    "a =(1)\n",
    "print(type(a))\n",
    "print(a)"
   ]
  },
  {
   "cell_type": "code",
   "execution_count": 13,
   "id": "8a904a9a",
   "metadata": {},
   "outputs": [
    {
     "name": "stdout",
     "output_type": "stream",
     "text": [
      "<class 'tuple'>\n"
     ]
    }
   ],
   "source": [
    "b = (\"apple\",)\n",
    "print(type(b))"
   ]
  },
  {
   "cell_type": "code",
   "execution_count": null,
   "id": "0e747eff",
   "metadata": {},
   "outputs": [],
   "source": [
    "#no append() insert() extend()\n",
    "# no update\n",
    "# no delete or remove or pop\n",
    "# no sort()"
   ]
  },
  {
   "cell_type": "code",
   "execution_count": 14,
   "id": "c1d712ff",
   "metadata": {},
   "outputs": [
    {
     "data": {
      "text/plain": [
       "('apple', 'ball')"
      ]
     },
     "execution_count": 14,
     "metadata": {},
     "output_type": "execute_result"
    }
   ],
   "source": [
    "a = ()\n",
    "b = (\"apple\",)\n",
    "c =(\"ball\",)\n",
    "d =a+b+c\n",
    "d"
   ]
  },
  {
   "cell_type": "code",
   "execution_count": 17,
   "id": "8d1f0d5c",
   "metadata": {},
   "outputs": [
    {
     "name": "stdout",
     "output_type": "stream",
     "text": [
      "enter n=2\n",
      "enter x=1\n",
      "enter x=1\n",
      "(1, 1)\n"
     ]
    }
   ],
   "source": [
    "a =()\n",
    "n =int(input(\"enter n=\"))\n",
    "for i in range(n):\n",
    "    x = int(input(\"enter x=\"))\n",
    "    a = a+(x,)\n",
    "print(a)    \n"
   ]
  },
  {
   "cell_type": "code",
   "execution_count": 20,
   "id": "aef39a26",
   "metadata": {},
   "outputs": [
    {
     "data": {
      "text/plain": [
       "['apple', 'cat', 'dog']"
      ]
     },
     "execution_count": 20,
     "metadata": {},
     "output_type": "execute_result"
    }
   ],
   "source": [
    "a=(\"apple\",\"cat\",\"dog\")\n",
    "a = list(a)   \n",
    "a "
   ]
  },
  {
   "cell_type": "code",
   "execution_count": 22,
   "id": "cff0c877",
   "metadata": {},
   "outputs": [
    {
     "data": {
      "text/plain": [
       "('apple', 'cat', 'dog')"
      ]
     },
     "execution_count": 22,
     "metadata": {},
     "output_type": "execute_result"
    }
   ],
   "source": [
    "a=[\"apple\",\"cat\",\"dog\"]\n",
    "a = tuple(a)  \n",
    "a"
   ]
  },
  {
   "cell_type": "code",
   "execution_count": 23,
   "id": "90962e11",
   "metadata": {},
   "outputs": [
    {
     "data": {
      "text/plain": [
       "('cat', 'dog')"
      ]
     },
     "execution_count": 23,
     "metadata": {},
     "output_type": "execute_result"
    }
   ],
   "source": [
    "a=(\"apple\",\"cat\",\"dog\")\n",
    "a = list(a)   \n",
    "del a[0]\n",
    "a = tuple(a)\n",
    "a"
   ]
  },
  {
   "cell_type": "code",
   "execution_count": 24,
   "id": "23a96d79",
   "metadata": {},
   "outputs": [
    {
     "data": {
      "text/plain": [
       "(1, 2, 3)"
      ]
     },
     "execution_count": 24,
     "metadata": {},
     "output_type": "execute_result"
    }
   ],
   "source": [
    "# tuple inside tuple\n",
    "a = ((1,2,3),(4,5,6),(7,8,9))\n",
    "a[0]\n"
   ]
  },
  {
   "cell_type": "code",
   "execution_count": 1,
   "id": "07fcb604",
   "metadata": {},
   "outputs": [
    {
     "name": "stdout",
     "output_type": "stream",
     "text": [
      "enter n=1\n",
      "enter name=ss\n",
      "enter age=10\n",
      "enter add=ww\n",
      "(('ss', 10, 'ww'),)\n"
     ]
    }
   ],
   "source": [
    "a =()\n",
    "n =int(input(\"enter n=\"))\n",
    "for i in range(n):\n",
    "    name = input(\"enter name=\")\n",
    "    age = int(input(\"enter age=\"))\n",
    "    add = input(\"enter add=\")\n",
    "    a = a+((name,age,add),)\n",
    "    \n",
    "print(a) "
   ]
  },
  {
   "cell_type": "code",
   "execution_count": 3,
   "id": "e15fd480",
   "metadata": {},
   "outputs": [
    {
     "name": "stdout",
     "output_type": "stream",
     "text": [
      "[1, 3, 4, 5, 10]\n"
     ]
    },
    {
     "data": {
      "text/plain": [
       "(1, 10, 3, 4, 5)"
      ]
     },
     "execution_count": 3,
     "metadata": {},
     "output_type": "execute_result"
    }
   ],
   "source": [
    "a = (1,10,3,4,5)\n",
    "print(sorted(a))\n",
    "a"
   ]
  },
  {
   "cell_type": "code",
   "execution_count": 7,
   "id": "270a6128",
   "metadata": {},
   "outputs": [
    {
     "data": {
      "text/plain": [
       "[('ss', 11, 'ktm'), ('aa', 1, 'ktm')]"
      ]
     },
     "execution_count": 7,
     "metadata": {},
     "output_type": "execute_result"
    }
   ],
   "source": [
    "a =((\"ss\",11,\"ktm\"),(\"aa\",1,\"ktm\"))\n",
    "list(a)"
   ]
  },
  {
   "cell_type": "code",
   "execution_count": 8,
   "id": "80b94070",
   "metadata": {},
   "outputs": [
    {
     "data": {
      "text/plain": [
       "[('ss', 11, 'ktm'), ('aa', 1, 'ktm')]"
      ]
     },
     "execution_count": 8,
     "metadata": {},
     "output_type": "execute_result"
    }
   ],
   "source": [
    "a =((\"ss\",11,\"ktm\"),(\"aa\",1,\"ktm\"))\n",
    "b = list(a)\n",
    "b"
   ]
  },
  {
   "cell_type": "code",
   "execution_count": 9,
   "id": "ac46990a",
   "metadata": {},
   "outputs": [
    {
     "data": {
      "text/plain": [
       "[('ss', 11, 'ktm'), ('aa', 1, 'ktm'), ('hh', 22, 'kk')]"
      ]
     },
     "execution_count": 9,
     "metadata": {},
     "output_type": "execute_result"
    }
   ],
   "source": [
    "b.append((\"hh\",22,\"kk\"))\n",
    "b"
   ]
  },
  {
   "cell_type": "code",
   "execution_count": 10,
   "id": "220da9d2",
   "metadata": {},
   "outputs": [
    {
     "data": {
      "text/plain": [
       "[('hh', 22, 'kk'), ('aa', 1, 'ktm'), ('hh', 22, 'kk')]"
      ]
     },
     "execution_count": 10,
     "metadata": {},
     "output_type": "execute_result"
    }
   ],
   "source": [
    "b[0] =(\"hh\",22,\"kk\")\n",
    "b"
   ]
  },
  {
   "cell_type": "code",
   "execution_count": 12,
   "id": "33e7398b",
   "metadata": {},
   "outputs": [
    {
     "data": {
      "text/plain": [
       "[('hh', 22, 'kk')]"
      ]
     },
     "execution_count": 12,
     "metadata": {},
     "output_type": "execute_result"
    }
   ],
   "source": [
    "del b[0]\n",
    "b"
   ]
  },
  {
   "cell_type": "code",
   "execution_count": 13,
   "id": "e4fd8acd",
   "metadata": {},
   "outputs": [
    {
     "data": {
      "text/plain": [
       "'hh'"
      ]
     },
     "execution_count": 13,
     "metadata": {},
     "output_type": "execute_result"
    }
   ],
   "source": [
    "a = [(\"hh\",22,\"kk\"),(\"aa\",1,\"ktm\")]\n",
    "a[0][0]"
   ]
  },
  {
   "cell_type": "code",
   "execution_count": 14,
   "id": "4d06f9e5",
   "metadata": {},
   "outputs": [
    {
     "data": {
      "text/plain": [
       "('hh', 22, 'kk')"
      ]
     },
     "execution_count": 14,
     "metadata": {},
     "output_type": "execute_result"
    }
   ],
   "source": [
    "a = [(\"hh\",22,\"kk\"),(\"aa\",1,\"ktm\")]\n",
    "a[0]\n"
   ]
  },
  {
   "cell_type": "code",
   "execution_count": 15,
   "id": "99a7860c",
   "metadata": {},
   "outputs": [
    {
     "data": {
      "text/plain": [
       "(['hh', 22, 'kk', 98989], ['aa', 1, 'ktm'])"
      ]
     },
     "execution_count": 15,
     "metadata": {},
     "output_type": "execute_result"
    }
   ],
   "source": [
    "a = ([\"hh\",22,\"kk\"],[\"aa\",1,\"ktm\"])\n",
    "a[0].append(98989)\n",
    "a"
   ]
  },
  {
   "cell_type": "code",
   "execution_count": 16,
   "id": "2950a359",
   "metadata": {},
   "outputs": [
    {
     "data": {
      "text/plain": [
       "(['DD', 22, 'kk'], ['aa', 1, 'ktm'])"
      ]
     },
     "execution_count": 16,
     "metadata": {},
     "output_type": "execute_result"
    }
   ],
   "source": [
    "a = ([\"hh\",22,\"kk\"],[\"aa\",1,\"ktm\"])\n",
    "a[0][0] =\"DD\"\n",
    "a"
   ]
  },
  {
   "cell_type": "code",
   "execution_count": null,
   "id": "c045156b",
   "metadata": {},
   "outputs": [],
   "source": []
  }
 ],
 "metadata": {
  "kernelspec": {
   "display_name": "Python 3 (ipykernel)",
   "language": "python",
   "name": "python3"
  },
  "language_info": {
   "codemirror_mode": {
    "name": "ipython",
    "version": 3
   },
   "file_extension": ".py",
   "mimetype": "text/x-python",
   "name": "python",
   "nbconvert_exporter": "python",
   "pygments_lexer": "ipython3",
   "version": "3.9.12"
  }
 },
 "nbformat": 4,
 "nbformat_minor": 5
}
