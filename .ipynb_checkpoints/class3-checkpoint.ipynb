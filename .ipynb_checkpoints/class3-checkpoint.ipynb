{
 "cells": [
  {
   "cell_type": "code",
   "execution_count": 1,
   "id": "f3892d9e",
   "metadata": {},
   "outputs": [],
   "source": [
    "# loop\n",
    "# while loop\n"
   ]
  },
  {
   "cell_type": "code",
   "execution_count": 2,
   "id": "34a73321",
   "metadata": {},
   "outputs": [
    {
     "name": "stdout",
     "output_type": "stream",
     "text": [
      "0\n",
      "1\n",
      "2\n",
      "3\n",
      "4\n"
     ]
    }
   ],
   "source": [
    "for i in range(5):\n",
    "    print(i)\n",
    "   \n",
    "\n"
   ]
  },
  {
   "cell_type": "code",
   "execution_count": 3,
   "id": "83f8a88b",
   "metadata": {},
   "outputs": [
    {
     "name": "stdout",
     "output_type": "stream",
     "text": [
      "hello world\n",
      "hello world\n",
      "hello world\n"
     ]
    }
   ],
   "source": [
    "for i in range(1,4):\n",
    "    print(\"hello world\")"
   ]
  },
  {
   "cell_type": "code",
   "execution_count": 4,
   "id": "89401ae5",
   "metadata": {},
   "outputs": [
    {
     "name": "stdout",
     "output_type": "stream",
     "text": [
      "1 hello world\n",
      "2 hello world\n"
     ]
    }
   ],
   "source": [
    "for i in range(1,3):\n",
    "    print(i,\"hello world\")\n"
   ]
  },
  {
   "cell_type": "code",
   "execution_count": 5,
   "id": "09e812a9",
   "metadata": {},
   "outputs": [
    {
     "name": "stdout",
     "output_type": "stream",
     "text": [
      "1 hello world\n",
      "3 hello world\n"
     ]
    }
   ],
   "source": [
    "for i in range(1,5,2):\n",
    "    print(i,\"hello world\")\n"
   ]
  },
  {
   "cell_type": "code",
   "execution_count": 6,
   "id": "fc14739d",
   "metadata": {},
   "outputs": [
    {
     "name": "stdout",
     "output_type": "stream",
     "text": [
      "enter x=2\n",
      "2\n",
      "4\n",
      "6\n",
      "8\n",
      "10\n",
      "12\n",
      "14\n",
      "16\n",
      "18\n",
      "20\n"
     ]
    }
   ],
   "source": [
    "x = int(input(\"enter x=\"))\n",
    "for i in range(1,11):\n",
    "    print(x*i)"
   ]
  },
  {
   "cell_type": "code",
   "execution_count": 7,
   "id": "b55ecd16",
   "metadata": {},
   "outputs": [
    {
     "name": "stdout",
     "output_type": "stream",
     "text": [
      "enter x=1\n",
      "1 * 1 = 1\n",
      "1 * 2 = 2\n",
      "1 * 3 = 3\n",
      "1 * 4 = 4\n",
      "1 * 5 = 5\n",
      "1 * 6 = 6\n",
      "1 * 7 = 7\n",
      "1 * 8 = 8\n",
      "1 * 9 = 9\n",
      "1 * 10 = 10\n"
     ]
    }
   ],
   "source": [
    "x = int(input(\"enter x=\"))\n",
    "for i in range(1,11):\n",
    "    print(x,\"*\",i,\"=\",x*i)"
   ]
  },
  {
   "cell_type": "code",
   "execution_count": 8,
   "id": "85b79f21",
   "metadata": {},
   "outputs": [
    {
     "name": "stdout",
     "output_type": "stream",
     "text": [
      "enter x=4\n",
      "enter x=4\n",
      "enter x=1\n",
      "enter x=2\n",
      "enter x=2\n"
     ]
    }
   ],
   "source": [
    "for i in range(5):\n",
    "    x = input(\"enter x=\")\n"
   ]
  },
  {
   "cell_type": "code",
   "execution_count": 9,
   "id": "942ef651",
   "metadata": {},
   "outputs": [
    {
     "name": "stdout",
     "output_type": "stream",
     "text": [
      "enter x=3\n",
      "3\n",
      "enter x=1\n",
      "4\n",
      "enter x=1\n",
      "5\n",
      "enter x=1\n",
      "6\n",
      "enter x=1\n",
      "7\n"
     ]
    }
   ],
   "source": [
    "s= 0 \n",
    "for i in range(5):\n",
    "    x = int(input(\"enter x=\"))\n",
    "    s=s+x\n",
    "    print(s)\n"
   ]
  },
  {
   "cell_type": "code",
   "execution_count": 10,
   "id": "f5d334be",
   "metadata": {},
   "outputs": [
    {
     "name": "stdout",
     "output_type": "stream",
     "text": [
      "enter x=1\n",
      "1\n",
      "enter x=1\n",
      "11\n",
      "enter x=1\n",
      "111\n",
      "enter x=1\n",
      "1111\n",
      "enter x=1\n",
      "11111\n"
     ]
    }
   ],
   "source": [
    "s= str()\n",
    "for i in range(5):\n",
    "    x = (input(\"enter x=\"))\n",
    "    s=s+x\n",
    "    print(s)"
   ]
  },
  {
   "cell_type": "code",
   "execution_count": 11,
   "id": "81141b78",
   "metadata": {},
   "outputs": [
    {
     "name": "stdout",
     "output_type": "stream",
     "text": [
      "enter x=1\n",
      "1\n",
      "\n",
      "enter x=1\n",
      "1\n",
      "1\n",
      "\n",
      "enter x=1\n",
      "1\n",
      "1\n",
      "1\n",
      "\n",
      "enter x=1\n",
      "1\n",
      "1\n",
      "1\n",
      "1\n",
      "\n",
      "enter x=1\n",
      "1\n",
      "1\n",
      "1\n",
      "1\n",
      "1\n",
      "\n"
     ]
    }
   ],
   "source": [
    "s= str() \n",
    "for i in range(5):\n",
    "    x = (input(\"enter x=\"))\n",
    "    s=s+x+\"\\n\"\n",
    "    print(s)"
   ]
  },
  {
   "cell_type": "code",
   "execution_count": 14,
   "id": "0802714a",
   "metadata": {},
   "outputs": [
    {
     "name": "stdout",
     "output_type": "stream",
     "text": [
      "enter n=2\n",
      "enter name=susmita\n",
      "enter phone568\n",
      "susmita568\n",
      "\n",
      "enter name=hh\n",
      "enter phone789\n",
      "susmita568\n",
      "hh789\n",
      "\n"
     ]
    }
   ],
   "source": [
    "s = str()\n",
    "n = int(input(\"enter n=\"))\n",
    "for i in range(n):\n",
    "    name = input(\"enter name=\")\n",
    "    phone = input(\"enter phone\")\n",
    "    s = s+name+phone+\"\\n\"\n",
    "    print(s)\n",
    "\n",
    "\n"
   ]
  },
  {
   "cell_type": "code",
   "execution_count": 13,
   "id": "3a689ef4",
   "metadata": {},
   "outputs": [
    {
     "name": "stdout",
     "output_type": "stream",
     "text": [
      "enter n=2\n",
      "enter name=susmita\n",
      "enter phone23456\n",
      "susmita--23456\n",
      "\n",
      "enter name=sss\n",
      "enter phone2789\n",
      "susmita--23456\n",
      "sss--2789\n",
      "\n"
     ]
    }
   ],
   "source": [
    "s = str()\n",
    "n = int(input(\"enter n=\"))\n",
    "for i in range(n):\n",
    "    name = input(\"enter name=\")\n",
    "    phone = input(\"enter phone\")\n",
    "    s = s+name+\"--\"+phone+\"\\n\"\n",
    "    print(s)"
   ]
  },
  {
   "cell_type": "code",
   "execution_count": 16,
   "id": "09493542",
   "metadata": {},
   "outputs": [
    {
     "name": "stdout",
     "output_type": "stream",
     "text": [
      "enter n=5\n",
      "1\n",
      "2\n",
      "6\n",
      "24\n",
      "120\n"
     ]
    }
   ],
   "source": [
    "#5!=1*2*3*4*5\n",
    "\n",
    "fac = 1\n",
    "n = int(input(\"enter n=\"))\n",
    "for i in range(1,n+1):\n",
    "    fac = fac*i\n",
    "    print(fac)\n"
   ]
  },
  {
   "cell_type": "code",
   "execution_count": 17,
   "id": "b6839f53",
   "metadata": {},
   "outputs": [
    {
     "name": "stdout",
     "output_type": "stream",
     "text": [
      "enter n=1\n",
      "0\n",
      "0\n"
     ]
    }
   ],
   "source": [
    "fac = 1\n",
    "n = int(input(\"enter n=\"))\n",
    "for i in range(n+1):\n",
    "    fac = fac*i\n",
    "    print(fac)"
   ]
  },
  {
   "cell_type": "code",
   "execution_count": 18,
   "id": "68f2cbdf",
   "metadata": {},
   "outputs": [
    {
     "name": "stdout",
     "output_type": "stream",
     "text": [
      "\n",
      "*\n",
      "**\n",
      "***\n",
      "****\n",
      "*****\n",
      "******\n",
      "*******\n",
      "********\n",
      "*********\n"
     ]
    }
   ],
   "source": [
    "for i in range(10):\n",
    "    print(\"*\"*i)\n"
   ]
  },
  {
   "cell_type": "code",
   "execution_count": 23,
   "id": "e38fcbb5",
   "metadata": {},
   "outputs": [
    {
     "name": "stdout",
     "output_type": "stream",
     "text": [
      "4\n",
      "3\n",
      "2\n",
      "1\n"
     ]
    }
   ],
   "source": [
    "for i in range(4,0,-1):\n",
    "    print(i)\n",
    "            "
   ]
  }
 ],
 "metadata": {
  "kernelspec": {
   "display_name": "Python 3 (ipykernel)",
   "language": "python",
   "name": "python3"
  },
  "language_info": {
   "codemirror_mode": {
    "name": "ipython",
    "version": 3
   },
   "file_extension": ".py",
   "mimetype": "text/x-python",
   "name": "python",
   "nbconvert_exporter": "python",
   "pygments_lexer": "ipython3",
   "version": "3.9.12"
  }
 },
 "nbformat": 4,
 "nbformat_minor": 5
}
