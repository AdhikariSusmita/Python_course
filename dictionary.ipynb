{
 "cells": [
  {
   "cell_type": "code",
   "execution_count": null,
   "id": "9ae4defa",
   "metadata": {},
   "outputs": [],
   "source": [
    "#dictionary\n",
    "-indexed\n",
    "-multiple and duplicate value\n",
    "- no duplicate key\n",
    "- ordered\n",
    "- mutable\n",
    "\n"
   ]
  },
  {
   "cell_type": "code",
   "execution_count": null,
   "id": "8f82a3e5",
   "metadata": {},
   "outputs": [],
   "source": [
    "# a ={<key>: <value>,<key>:<value>,...}\n"
   ]
  },
  {
   "cell_type": "code",
   "execution_count": 2,
   "id": "ffc5e7a7",
   "metadata": {},
   "outputs": [
    {
     "name": "stdout",
     "output_type": "stream",
     "text": [
      "Apple\n"
     ]
    }
   ],
   "source": [
    "a = {\"A\":\"Apple\",\"B\":\"Ball\",\"c\":\"Cat\"}\n",
    "print(a[\"A\"])"
   ]
  },
  {
   "cell_type": "code",
   "execution_count": 3,
   "id": "01f79bb1",
   "metadata": {},
   "outputs": [
    {
     "name": "stdout",
     "output_type": "stream",
     "text": [
      "Apple\n",
      "<class 'dict'>\n"
     ]
    }
   ],
   "source": [
    "a = {\"A\":\"Apple\",\"B\":\"Ball\",\"c\":\"Cat\"}\n",
    "print(a[\"A\"])\n",
    "print(type(a))"
   ]
  },
  {
   "cell_type": "code",
   "execution_count": 6,
   "id": "31e637d5",
   "metadata": {},
   "outputs": [
    {
     "data": {
      "text/plain": [
       "{'A': 'apple', 'B': 'Ball', 'c': 'Cat'}"
      ]
     },
     "execution_count": 6,
     "metadata": {},
     "output_type": "execute_result"
    }
   ],
   "source": [
    "a = {\"A\":\"Apple\",\"B\":\"Ball\",\"c\":\"Cat\",\"A\":\"apple\"}\n",
    "a"
   ]
  },
  {
   "cell_type": "code",
   "execution_count": 8,
   "id": "2d781eef",
   "metadata": {},
   "outputs": [
    {
     "data": {
      "text/plain": [
       "{'a': 'apple', 'b': 'Ball', 'c': 'cat'}"
      ]
     },
     "execution_count": 8,
     "metadata": {},
     "output_type": "execute_result"
    }
   ],
   "source": [
    "# a =dict()\n",
    "d ={}\n",
    "d[\"a\"] = \"Apple\"\n",
    "d[\"b\"] = \"Ball\"\n",
    "d[\"c\"] = \"cat\"\n",
    "d[\"a\"] = \"apple\"\n",
    "d"
   ]
  },
  {
   "cell_type": "code",
   "execution_count": 10,
   "id": "43839722",
   "metadata": {},
   "outputs": [
    {
     "name": "stdout",
     "output_type": "stream",
     "text": [
      "enter n=2\n",
      "enter name=susmita\n",
      "enter phone8787\n",
      "enter name=ss\n",
      "enter phone9898\n"
     ]
    },
    {
     "data": {
      "text/plain": [
       "{'susmita': '8787', 'ss': '9898'}"
      ]
     },
     "execution_count": 10,
     "metadata": {},
     "output_type": "execute_result"
    }
   ],
   "source": [
    "info = {}\n",
    "n = int(input(\"enter n=\"))\n",
    "for i in range(n):\n",
    "    name = input(\"enter name=\")\n",
    "    phone = input(\"enter phone\")\n",
    "    info[name] = phone\n",
    "    \n",
    "info   "
   ]
  },
  {
   "cell_type": "code",
   "execution_count": 11,
   "id": "1ebbde5d",
   "metadata": {},
   "outputs": [
    {
     "name": "stdout",
     "output_type": "stream",
     "text": [
      "susmita\n",
      "ss\n"
     ]
    }
   ],
   "source": [
    "for i in info:\n",
    "    print(i)"
   ]
  },
  {
   "cell_type": "code",
   "execution_count": 13,
   "id": "99ee2a43",
   "metadata": {},
   "outputs": [
    {
     "name": "stdout",
     "output_type": "stream",
     "text": [
      "8787\n",
      "9898\n"
     ]
    }
   ],
   "source": [
    "for i in info.values():\n",
    "    print(i)"
   ]
  },
  {
   "cell_type": "code",
   "execution_count": 14,
   "id": "3aeef12c",
   "metadata": {},
   "outputs": [
    {
     "name": "stdout",
     "output_type": "stream",
     "text": [
      "('susmita', '8787')\n",
      "('ss', '9898')\n"
     ]
    }
   ],
   "source": [
    "for i in info.items():\n",
    "    print(i)"
   ]
  },
  {
   "cell_type": "code",
   "execution_count": 15,
   "id": "c05468b6",
   "metadata": {},
   "outputs": [
    {
     "data": {
      "text/plain": [
       "[('susmita', '8787'), ('ss', '9898')]"
      ]
     },
     "execution_count": 15,
     "metadata": {},
     "output_type": "execute_result"
    }
   ],
   "source": [
    "l = []\n",
    "for i in info.items():\n",
    "    l.append(i)\n",
    "l    \n",
    "\n",
    "   "
   ]
  },
  {
   "cell_type": "code",
   "execution_count": 16,
   "id": "f9993533",
   "metadata": {},
   "outputs": [
    {
     "data": {
      "text/plain": [
       "{'susmita': '8787', 'ss': '9898'}"
      ]
     },
     "execution_count": 16,
     "metadata": {},
     "output_type": "execute_result"
    }
   ],
   "source": [
    "dict(l)"
   ]
  },
  {
   "cell_type": "code",
   "execution_count": 18,
   "id": "7f56ef88",
   "metadata": {},
   "outputs": [
    {
     "data": {
      "text/plain": [
       "{'susmita': '8787', 'ss': '9898'}"
      ]
     },
     "execution_count": 18,
     "metadata": {},
     "output_type": "execute_result"
    }
   ],
   "source": [
    "a =(('susmita', '8787'),('ss', '9898'))\n",
    "dict(a)"
   ]
  },
  {
   "cell_type": "code",
   "execution_count": 19,
   "id": "8a0fd69b",
   "metadata": {},
   "outputs": [
    {
     "data": {
      "text/plain": [
       "{'susmita': '8787', 'ss': '9898'}"
      ]
     },
     "execution_count": 19,
     "metadata": {},
     "output_type": "execute_result"
    }
   ],
   "source": [
    "a =[['susmita', '8787'],['ss', '9898']]\n",
    "dict(a)"
   ]
  },
  {
   "cell_type": "code",
   "execution_count": 20,
   "id": "d058e50b",
   "metadata": {},
   "outputs": [
    {
     "data": {
      "text/plain": [
       "{'susmita': '8787', 'ss': '9898', 'hh': '8979'}"
      ]
     },
     "execution_count": 20,
     "metadata": {},
     "output_type": "execute_result"
    }
   ],
   "source": [
    "a ={'susmita': '8787', 'ss': '9898'}\n",
    "b = {\"hh\":\"8979\"}\n",
    "a.update(b)\n",
    "a"
   ]
  },
  {
   "cell_type": "code",
   "execution_count": 22,
   "id": "67171d9d",
   "metadata": {},
   "outputs": [
    {
     "data": {
      "text/plain": [
       "{'susmita': '8787', 'hh': '8979'}"
      ]
     },
     "execution_count": 22,
     "metadata": {},
     "output_type": "execute_result"
    }
   ],
   "source": [
    "# del pop\n",
    "a ={'susmita': '8787', 'ss': '9898', 'hh': '8979'}\n",
    "del a['ss']\n",
    "a"
   ]
  },
  {
   "cell_type": "code",
   "execution_count": 26,
   "id": "73237736",
   "metadata": {},
   "outputs": [
    {
     "data": {
      "text/plain": [
       "3"
      ]
     },
     "execution_count": 26,
     "metadata": {},
     "output_type": "execute_result"
    }
   ],
   "source": [
    "a = {1:2,4:2,5:2}\n",
    "len(a)"
   ]
  },
  {
   "cell_type": "code",
   "execution_count": 32,
   "id": "bbaf2513",
   "metadata": {},
   "outputs": [
    {
     "name": "stdout",
     "output_type": "stream",
     "text": [
      "{'susmita': '8787'}\n",
      "9898\n"
     ]
    }
   ],
   "source": [
    "a ={'susmita': '8787', 'ss': '9898'}\n",
    "b = a.pop(\"ss\")\n",
    "print(a)\n",
    "print(b)"
   ]
  },
  {
   "cell_type": "code",
   "execution_count": 33,
   "id": "89212913",
   "metadata": {},
   "outputs": [
    {
     "data": {
      "text/plain": [
       "{'susmita': ['8787'], 'ss': ['9898'], 'hh': ['8979']}"
      ]
     },
     "execution_count": 33,
     "metadata": {},
     "output_type": "execute_result"
    }
   ],
   "source": [
    "#list inside dict\n",
    "\n",
    "a ={'susmita': ['8787'],\n",
    "    'ss': ['9898'], \n",
    "    'hh': ['8979']}\n",
    "a"
   ]
  },
  {
   "cell_type": "code",
   "execution_count": 36,
   "id": "b0b12ed4",
   "metadata": {},
   "outputs": [
    {
     "name": "stdout",
     "output_type": "stream",
     "text": [
      "enter n=1\n",
      "enter name=ss\n",
      "enter ntc_phone9898\n",
      "enter ncell_phone9191\n"
     ]
    },
    {
     "data": {
      "text/plain": [
       "{'ss': ['9898', '9191']}"
      ]
     },
     "execution_count": 36,
     "metadata": {},
     "output_type": "execute_result"
    }
   ],
   "source": [
    "info = {}\n",
    "n = int(input(\"enter n=\"))\n",
    "for i in range(n):\n",
    "    name = input(\"enter name=\")\n",
    "    ntc_phone = input(\"enter ntc_phone\")\n",
    "    ncell_phone = input(\"enter ncell_phone\")\n",
    "    info[name] = [ ntc_phone, ncell_phone ]\n",
    "    \n",
    "info   "
   ]
  },
  {
   "cell_type": "code",
   "execution_count": 40,
   "id": "d8005739",
   "metadata": {},
   "outputs": [
    {
     "name": "stdout",
     "output_type": "stream",
     "text": [
      "enter name=ytyt\n",
      "enter ntc_phone09\n",
      "enter ncell_phone98\n"
     ]
    }
   ],
   "source": [
    "name = input(\"enter name=\")\n",
    "ntc_phone = input(\"enter ntc_phone\")\n",
    "ncell_phone = input(\"enter ncell_phone\")\n",
    "info[name] = [ ntc_phone, ncell_phone ]\n",
    "   \n"
   ]
  },
  {
   "cell_type": "code",
   "execution_count": 41,
   "id": "63e28c6a",
   "metadata": {},
   "outputs": [
    {
     "data": {
      "text/plain": [
       "{'ss': ['989', '8787'], 'ytyt': ['09', '98']}"
      ]
     },
     "execution_count": 41,
     "metadata": {},
     "output_type": "execute_result"
    }
   ],
   "source": [
    "info"
   ]
  },
  {
   "cell_type": "code",
   "execution_count": 42,
   "id": "88dd37ba",
   "metadata": {},
   "outputs": [
    {
     "data": {
      "text/plain": [
       "['989', '8787']"
      ]
     },
     "execution_count": 42,
     "metadata": {},
     "output_type": "execute_result"
    }
   ],
   "source": [
    "info[\"ss\"]"
   ]
  },
  {
   "cell_type": "code",
   "execution_count": 43,
   "id": "4ce15bf4",
   "metadata": {},
   "outputs": [
    {
     "data": {
      "text/plain": [
       "{'ss': ['989', '8787', 2323], 'ytyt': ['09', '98']}"
      ]
     },
     "execution_count": 43,
     "metadata": {},
     "output_type": "execute_result"
    }
   ],
   "source": [
    "info[\"ss\"].append(2323)\n",
    "info"
   ]
  },
  {
   "cell_type": "code",
   "execution_count": 45,
   "id": "f2550ba4",
   "metadata": {},
   "outputs": [
    {
     "data": {
      "text/plain": [
       "{'ss': ['989', '8787', 2323], 'ytyt': ['09', '98']}"
      ]
     },
     "execution_count": 45,
     "metadata": {},
     "output_type": "execute_result"
    }
   ],
   "source": [
    "info"
   ]
  },
  {
   "cell_type": "code",
   "execution_count": 47,
   "id": "93b9bbdb",
   "metadata": {},
   "outputs": [
    {
     "data": {
      "text/plain": [
       "{'ss': [4444, '8787', 2323], 'ytyt': ['09', '98']}"
      ]
     },
     "execution_count": 47,
     "metadata": {},
     "output_type": "execute_result"
    }
   ],
   "source": [
    "info[\"ss\"][0] =4444\n",
    "info"
   ]
  },
  {
   "cell_type": "code",
   "execution_count": 2,
   "id": "e7652c29",
   "metadata": {},
   "outputs": [
    {
     "name": "stdout",
     "output_type": "stream",
     "text": [
      "enter n=1\n",
      "enter name=susmita\n",
      "enter phone9898\n"
     ]
    },
    {
     "data": {
      "text/plain": [
       "{'susmita': '9898'}"
      ]
     },
     "execution_count": 2,
     "metadata": {},
     "output_type": "execute_result"
    }
   ],
   "source": [
    "info = {}\n",
    "n = int(input(\"enter n=\"))\n",
    "for i in range(n):\n",
    "    name = input(\"enter name=\")\n",
    "    phone = input(\"enter phone\")\n",
    "    info[name] = phone\n",
    "    \n",
    "    \n",
    "info   "
   ]
  },
  {
   "cell_type": "code",
   "execution_count": 1,
   "id": "b66ddc73",
   "metadata": {},
   "outputs": [
    {
     "data": {
      "text/plain": [
       "{1: {'name': 'ram', 'age': 5, 'address': 'kathmandu'},\n",
       " 2: {'name': 'shyam',\n",
       "  'age': 10,\n",
       "  'address': 'bhaktapur',\n",
       "  3: {'name': 'hari', 'age': 15, 'address': 'Lalitpur'}}}"
      ]
     },
     "execution_count": 1,
     "metadata": {},
     "output_type": "execute_result"
    }
   ],
   "source": [
    "#dict inside dict\n",
    "\n",
    "d = {1:{\"name\":\"ram\",\"age\":5,\"address\":\"kathmandu\"},\n",
    "    2:{\"name\":\"shyam\",\"age\":10,\"address\":\"bhaktapur\",\n",
    "    3:{\"name\":\"hari\",\"age\":15,\"address\":\"Lalitpur\"}}}\n",
    "d\n",
    "    \n"
   ]
  },
  {
   "cell_type": "code",
   "execution_count": 2,
   "id": "2afc9c45",
   "metadata": {},
   "outputs": [
    {
     "data": {
      "text/plain": [
       "{1: {'name': 'ram', 'age': 5, 'address': 'kathmandu'},\n",
       " 2: {'name': 'shyam',\n",
       "  'age': 10,\n",
       "  'address': 'bhaktapur',\n",
       "  3: {'name': 'hari', 'age': 15, 'address': 'Lalitpur'}},\n",
       " 4: {'name': 'shrayan', 'age': 8, 'address': 'bhaktapur'}}"
      ]
     },
     "execution_count": 2,
     "metadata": {},
     "output_type": "execute_result"
    }
   ],
   "source": [
    "d[4] = {\"name\":\"shrayan\",\"age\":8,\"address\":\"bhaktapur\"}\n",
    "d\n",
    "    "
   ]
  },
  {
   "cell_type": "code",
   "execution_count": 3,
   "id": "ce954e33",
   "metadata": {},
   "outputs": [
    {
     "data": {
      "text/plain": [
       "{1: {'name': 'ram', 'age': 5, 'address': 'kathmandu'},\n",
       " 2: {'name': 'shyam',\n",
       "  'age': 10,\n",
       "  'address': 'bhaktapur',\n",
       "  3: {'name': 'hari', 'age': 15, 'address': 'Lalitpur'}}}"
      ]
     },
     "execution_count": 3,
     "metadata": {},
     "output_type": "execute_result"
    }
   ],
   "source": [
    "del d[4] \n",
    "d"
   ]
  },
  {
   "cell_type": "code",
   "execution_count": 9,
   "id": "2cf9606f",
   "metadata": {},
   "outputs": [
    {
     "data": {
      "text/plain": [
       "{1: {'name': 'ram', 'age': 5, 'address': 'kathmandu'},\n",
       " 2: {'name': 'shyam', 'age': 10, 'address': 'bhaktapur'},\n",
       " 3: {'name': 'hari', 'age': 15, 'address': 'Lalitpur'}}"
      ]
     },
     "execution_count": 9,
     "metadata": {},
     "output_type": "execute_result"
    }
   ],
   "source": [
    "d = {1:{\"name\":\"ram\",\"age\":5,\"address\":\"kathmandu\"},\n",
    "    2:{\"name\":\"shyam\",\"age\":10,\"address\":\"bhaktapur\"},\n",
    "    3:{\"name\":\"hari\",\"age\":15,\"address\":\"Lalitpur\"}}\n",
    "\n",
    "\n",
    "d\n"
   ]
  },
  {
   "cell_type": "code",
   "execution_count": 10,
   "id": "2bc893ea",
   "metadata": {},
   "outputs": [
    {
     "data": {
      "text/plain": [
       "{1: {'name': 'ram', 'age': 5, 'address': 'kathmandu', 'phone': 9898},\n",
       " 2: {'name': 'shyam', 'age': 10, 'address': 'bhaktapur', 'phone': 7878},\n",
       " 3: {'name': 'hari', 'age': 15, 'address': 'Lalitpur', 'phone': 9595}}"
      ]
     },
     "execution_count": 10,
     "metadata": {},
     "output_type": "execute_result"
    }
   ],
   "source": [
    "d[1][\"phone\"] = 9898\n",
    "d[2][\"phone\"] = 7878\n",
    "d[3][\"phone\"] = 9595\n",
    "d"
   ]
  },
  {
   "cell_type": "code",
   "execution_count": 3,
   "id": "5fd46b1d",
   "metadata": {},
   "outputs": [
    {
     "name": "stdout",
     "output_type": "stream",
     "text": [
      "enter n =1\n",
      "enter name=ram\n",
      "enter age=10\n",
      "enter add=kathmandu\n",
      "enter phone=9898\n",
      "{1: {'name': 'ram', 'age': 10, 'address': 'kathmandu'}}\n"
     ]
    }
   ],
   "source": [
    "d = {}\n",
    "n = int(input(\"enter n =\"))\n",
    "for i in range(1,n+1):\n",
    "    name = input(\"enter name=\")\n",
    "    age = int(input(\"enter age=\"))\n",
    "    add= input(\"enter add=\")\n",
    "    phone= int(input(\"enter phone=\"))\n",
    "    d[i] = {\"name\":name,\"age\":age,\"address\":add}\n",
    "        \n",
    "print(d)        \n",
    "      "
   ]
  },
  {
   "cell_type": "code",
   "execution_count": null,
   "id": "8edb7563",
   "metadata": {},
   "outputs": [],
   "source": [
    "# wap to create following type and perform crud\n",
    "#d = {\"name\":[\"ram\",\"hari\",\"sita\"],\n",
    "    \"age\":[23,43,45],\n",
    "    \"address:[\"kathmandu\",\"bara\",\"laliptur\"]}\n",
    "     \n",
    "#a = [{'name': 'ram', 'age': 5, 'address': 'kathmandu'},\n",
    "      {'name': 'ram', 'age': 5, 'address': 'kathmandu}]\n",
    "    \n",
    "\n"
   ]
  }
 ],
 "metadata": {
  "kernelspec": {
   "display_name": "Python 3 (ipykernel)",
   "language": "python",
   "name": "python3"
  },
  "language_info": {
   "codemirror_mode": {
    "name": "ipython",
    "version": 3
   },
   "file_extension": ".py",
   "mimetype": "text/x-python",
   "name": "python",
   "nbconvert_exporter": "python",
   "pygments_lexer": "ipython3",
   "version": "3.9.12"
  }
 },
 "nbformat": 4,
 "nbformat_minor": 5
}
