{
 "cells": [
  {
   "cell_type": "code",
   "execution_count": null,
   "id": "404367c3",
   "metadata": {},
   "outputs": [],
   "source": [
    "1 string\n",
    "2 - sequence of char\n",
    "3 -imutable datatype\n",
    "\n"
   ]
  },
  {
   "cell_type": "code",
   "execution_count": 1,
   "id": "cde8b8d3",
   "metadata": {},
   "outputs": [
    {
     "name": "stdout",
     "output_type": "stream",
     "text": [
      "hello world\n",
      "<class 'str'>\n"
     ]
    }
   ],
   "source": [
    "a = \"hello world\"\n",
    "print(a)\n",
    "print(type(a))"
   ]
  },
  {
   "cell_type": "code",
   "execution_count": 2,
   "id": "dac30c7d",
   "metadata": {},
   "outputs": [
    {
     "name": "stdout",
     "output_type": "stream",
     "text": [
      "helloworld\n"
     ]
    }
   ],
   "source": [
    "a = \"hello\"\n",
    "b = \"world\"\n",
    "c =a+b\n",
    "print(c)"
   ]
  },
  {
   "cell_type": "code",
   "execution_count": 4,
   "id": "0cfcfcd7",
   "metadata": {},
   "outputs": [
    {
     "name": "stdout",
     "output_type": "stream",
     "text": [
      "hello world \n",
      "hello world \n",
      "\n"
     ]
    }
   ],
   "source": [
    "a = \"hello world \\n\"\n",
    "print(a*2)"
   ]
  },
  {
   "cell_type": "code",
   "execution_count": 5,
   "id": "6527d351",
   "metadata": {},
   "outputs": [
    {
     "name": "stdout",
     "output_type": "stream",
     "text": [
      "enter a=aa\n",
      "enter b=vv\n",
      "aa vv\n"
     ]
    }
   ],
   "source": [
    "a = input(\"enter a=\")\n",
    "b = input(\"enter b=\")\n",
    "c = a+\" \"+b\n",
    "print(c)\n"
   ]
  },
  {
   "cell_type": "code",
   "execution_count": 6,
   "id": "a36646fc",
   "metadata": {},
   "outputs": [
    {
     "data": {
      "text/plain": [
       "'p'"
      ]
     },
     "execution_count": 6,
     "metadata": {},
     "output_type": "execute_result"
    }
   ],
   "source": [
    "a = \"python\"\n",
    "a[0]"
   ]
  },
  {
   "cell_type": "code",
   "execution_count": 7,
   "id": "83dba976",
   "metadata": {},
   "outputs": [
    {
     "data": {
      "text/plain": [
       "'n'"
      ]
     },
     "execution_count": 7,
     "metadata": {},
     "output_type": "execute_result"
    }
   ],
   "source": [
    "a = \"python\"\n",
    "a[-1]"
   ]
  },
  {
   "cell_type": "code",
   "execution_count": 9,
   "id": "60313e40",
   "metadata": {},
   "outputs": [
    {
     "name": "stdout",
     "output_type": "stream",
     "text": [
      "hello worl\n"
     ]
    }
   ],
   "source": [
    "#string slicing\n",
    "a = \"hello world i am python\"\n",
    "print(a[0:10])"
   ]
  },
  {
   "cell_type": "code",
   "execution_count": 11,
   "id": "40186401",
   "metadata": {},
   "outputs": [
    {
     "name": "stdout",
     "output_type": "stream",
     "text": [
      "hlowrdia yhn\n"
     ]
    }
   ],
   "source": [
    "a = \"hello world i am python\"\n",
    "print(a[0:25:2])"
   ]
  },
  {
   "cell_type": "code",
   "execution_count": 13,
   "id": "490aa0b8",
   "metadata": {},
   "outputs": [
    {
     "name": "stdout",
     "output_type": "stream",
     "text": [
      "eoo\n"
     ]
    }
   ],
   "source": [
    "a = \"hello world i am python\"\n",
    "print(a[1:10:3])"
   ]
  },
  {
   "cell_type": "code",
   "execution_count": 14,
   "id": "3ca257bc",
   "metadata": {},
   "outputs": [
    {
     "name": "stdout",
     "output_type": "stream",
     "text": [
      "nohtyp\n"
     ]
    }
   ],
   "source": [
    "a = \"python\"\n",
    "print(a[-1:-7:-1])"
   ]
  },
  {
   "cell_type": "code",
   "execution_count": 15,
   "id": "9b66abed",
   "metadata": {},
   "outputs": [
    {
     "name": "stdout",
     "output_type": "stream",
     "text": [
      "nohtyp\n"
     ]
    }
   ],
   "source": [
    "a = \"python\"\n",
    "print(a[::-1])"
   ]
  },
  {
   "cell_type": "code",
   "execution_count": 16,
   "id": "90f0da2a",
   "metadata": {},
   "outputs": [
    {
     "name": "stdout",
     "output_type": "stream",
     "text": [
      "nohtyp\n"
     ]
    }
   ],
   "source": [
    "a = \"python\"\n",
    "print(a[-1::-1])"
   ]
  },
  {
   "cell_type": "code",
   "execution_count": 19,
   "id": "f8437171",
   "metadata": {},
   "outputs": [
    {
     "name": "stdout",
     "output_type": "stream",
     "text": [
      "hello i amssi am 10\n"
     ]
    }
   ],
   "source": [
    "#####\n",
    "a = \"ss\"\n",
    "b = 10\n",
    "c = \"hello i am\"+a+\"i am \" + str(b)\n",
    "print(c)"
   ]
  },
  {
   "cell_type": "code",
   "execution_count": 21,
   "id": "b3270124",
   "metadata": {},
   "outputs": [
    {
     "data": {
      "text/plain": [
       "'Hello I am ss. I am 10'"
      ]
     },
     "execution_count": 21,
     "metadata": {},
     "output_type": "execute_result"
    }
   ],
   "source": [
    "# string formatting\n",
    "info =f\"Hello I am {a}. I am {b}\"\n",
    "info"
   ]
  },
  {
   "cell_type": "code",
   "execution_count": 22,
   "id": "7b759b8e",
   "metadata": {},
   "outputs": [
    {
     "name": "stdout",
     "output_type": "stream",
     "text": [
      "enter name = ss\n",
      "enter age = 11\n",
      "enter add = ss\n"
     ]
    },
    {
     "data": {
      "text/plain": [
       "'Hello I am ss. I am from ss.I am 11'"
      ]
     },
     "execution_count": 22,
     "metadata": {},
     "output_type": "execute_result"
    }
   ],
   "source": [
    "name = input(\"enter name = \")\n",
    "age = input(\"enter age = \")\n",
    "add = input(\"enter add = \")\n",
    "\n",
    "info = f\"Hello I am {name}. I am from {add}.I am {age}\"\n",
    "info"
   ]
  },
  {
   "cell_type": "code",
   "execution_count": null,
   "id": "13e87ef5",
   "metadata": {},
   "outputs": [],
   "source": [
    " #wap to create a  billing system using string\n",
    " #wap to create a phone no entry system"
   ]
  },
  {
   "cell_type": "code",
   "execution_count": 23,
   "id": "6027a460",
   "metadata": {},
   "outputs": [
    {
     "name": "stdout",
     "output_type": "stream",
     "text": [
      "python\n"
     ]
    }
   ],
   "source": [
    "a = \"python\"\n",
    "print(a.lower())"
   ]
  },
  {
   "cell_type": "code",
   "execution_count": 24,
   "id": "807ed6f3",
   "metadata": {},
   "outputs": [
    {
     "name": "stdout",
     "output_type": "stream",
     "text": [
      "python\n"
     ]
    }
   ],
   "source": [
    "print(a)                 "
   ]
  },
  {
   "cell_type": "code",
   "execution_count": 26,
   "id": "8dbce23c",
   "metadata": {},
   "outputs": [
    {
     "name": "stdout",
     "output_type": "stream",
     "text": [
      "python\n"
     ]
    }
   ],
   "source": [
    "a = \"python\"\n",
    "a = a.lower()\n",
    "print(a)   \n",
    "    "
   ]
  },
  {
   "cell_type": "code",
   "execution_count": 28,
   "id": "dc2f92c6",
   "metadata": {},
   "outputs": [
    {
     "data": {
      "text/plain": [
       "'PYTHON'"
      ]
     },
     "execution_count": 28,
     "metadata": {},
     "output_type": "execute_result"
    }
   ],
   "source": [
    "a = \"python\"\n",
    "a = a.upper()\n",
    "a"
   ]
  },
  {
   "cell_type": "code",
   "execution_count": 30,
   "id": "3506d3ee",
   "metadata": {},
   "outputs": [
    {
     "name": "stdout",
     "output_type": "stream",
     "text": [
      "enter name=aa\n",
      "yes\n"
     ]
    }
   ],
   "source": [
    "a = \"aa bb ss nn\"\n",
    "name = input(\"enter name=\")\n",
    "if name in a:\n",
    "    print(\"yes\")\n",
    "    "
   ]
  },
  {
   "cell_type": "code",
   "execution_count": 32,
   "id": "68048f0f",
   "metadata": {},
   "outputs": [
    {
     "name": "stdout",
     "output_type": "stream",
     "text": [
      "enter name=ss\n",
      "yes\n",
      "2\n"
     ]
    }
   ],
   "source": [
    "a = \"aa bb ss  ss nn\"\n",
    "name = input(\"enter name=\")\n",
    "if name in a:\n",
    "    print(\"yes\")\n",
    "    print(a. count(name))"
   ]
  },
  {
   "cell_type": "code",
   "execution_count": 33,
   "id": "4e19fd78",
   "metadata": {},
   "outputs": [
    {
     "name": "stdout",
     "output_type": "stream",
     "text": [
      "enter name=a\n",
      "yes\n",
      "2\n"
     ]
    }
   ],
   "source": [
    "a = \"aa bb ss  ss nn\"                  #search(sequence of char)\n",
    "name = input(\"enter name=\")\n",
    "if name in a:\n",
    "    print(\"yes\")\n",
    "    print(a. count(name))"
   ]
  },
  {
   "cell_type": "code",
   "execution_count": 4,
   "id": "13ea0234",
   "metadata": {},
   "outputs": [
    {
     "name": "stdout",
     "output_type": "stream",
     "text": [
      "ram saaa\n",
      "enter name=saa\n",
      "ram saaa\n",
      "yes\n",
      "1\n"
     ]
    }
   ],
   "source": [
    "####\n",
    "a = \"Ram Saaa\" .lower()\n",
    "print(a)\n",
    "name = input(\"enter name=\").lower()\n",
    "print(a)\n",
    "if name in a:\n",
    "    print(\"yes\")\n",
    "    print(a. count(name))"
   ]
  },
  {
   "cell_type": "code",
   "execution_count": 2,
   "id": "1e6d0901",
   "metadata": {},
   "outputs": [
    {
     "name": "stdout",
     "output_type": "stream",
     "text": [
      "Raamm Sita Gita\n"
     ]
    }
   ],
   "source": [
    "a = \"Ram Sita Gita\"\n",
    "a = a.replace('Ram',\"Raamm\")\n",
    "print(a)"
   ]
  },
  {
   "cell_type": "code",
   "execution_count": 5,
   "id": "1f865218",
   "metadata": {},
   "outputs": [
    {
     "data": {
      "text/plain": [
       "'Raam Sita Gita'"
      ]
     },
     "execution_count": 5,
     "metadata": {},
     "output_type": "execute_result"
    }
   ],
   "source": [
    "#list\n",
    "a = \"Ram Sita Gita\"\n",
    "b =\"Raam\"\n",
    "c = b+a[3:]\n",
    "c"
   ]
  },
  {
   "cell_type": "code",
   "execution_count": 2,
   "id": "dc6a8cd2",
   "metadata": {},
   "outputs": [
    {
     "name": "stdout",
     "output_type": "stream",
     "text": [
      "enter Name= susmita\n",
      "enter Phone Number= 9860588910\n",
      "enter Name= shrayan\n",
      "enter Phone Number= 9823742305\n",
      "enter Name= ravi\n",
      "enter Phone Number= 9818956305\n",
      "\n",
      "Name\t\t\tPhone Number\n",
      "\n",
      "susmita\t\t\t9860588910\n",
      "shrayan\t\t\t9823742305\n",
      "ravi\t\t\t9818956305\n",
      "\n",
      "Enter search term: ravi\n",
      "Search result:\n",
      "Name: ravi, Phone Number: 9818956305\n"
     ]
    }
   ],
   "source": [
    "#wap to create a phone no entry system\n",
    "names = []\n",
    "phone_numbers = []\n",
    "num = 3\n",
    "\n",
    "for i in range(num):\n",
    "    name = input(\"enter Name= \")\n",
    "    phone_number = input(\"enter Phone Number= \") \n",
    "    \n",
    "    names.append(name)\n",
    "    phone_numbers.append(phone_number)\n",
    "    \n",
    "print(\"\\nName\\t\\t\\tPhone Number\\n\")\n",
    "\n",
    "for i in range(num):\n",
    "    print(\"{}\\t\\t\\t{}\".format(names[i], phone_numbers[i]))    ##  {} {}\n",
    "\n",
    "search_term = input(\"\\nEnter search term: \")\n",
    "\n",
    "print(\"Search result:\")\n",
    "\n",
    "if search_term in names:\n",
    "    index = names.index(search_term)\n",
    "    phone_number = phone_numbers[index]\n",
    "    print(\"Name: {}, Phone Number: {}\".format(search_term, phone_number))\n",
    "\n",
    "else:\n",
    "    print(\"Name Not Found\")"
   ]
  },
  {
   "cell_type": "code",
   "execution_count": 2,
   "id": "a0f52dbe",
   "metadata": {},
   "outputs": [
    {
     "name": "stdout",
     "output_type": "stream",
     "text": [
      "Enter n = 2\n",
      "Enter name = coke\n",
      "Enter price = 100\n",
      "Enter quantity = 2\n",
      "Enter name = momo\n",
      "Enter price = 150\n",
      "Enter quantity = 3\n",
      "coke 100 2 200\n",
      "momo 150 3 450\n",
      "\n"
     ]
    }
   ],
   "source": [
    " #wap to create a  billing system using string\n",
    "    \n",
    "bill = str()\n",
    "n = int(input(\"Enter n = \"))\n",
    "for i in range(n):\n",
    "    name = input(\"Enter name = \")\n",
    "    price = int(input(\"Enter price = \"))\n",
    "    quantity = int(input(\"Enter quantity = \"))\n",
    "    total = price*quantity\n",
    "    info = f\"{name} {price} {quantity} {total}\\n\"\n",
    "    bill = bill + info\n",
    "    \n",
    "print(bill)\n",
    "    \n",
    "\n",
    "    "
   ]
  },
  {
   "cell_type": "code",
   "execution_count": null,
   "id": "53e81552",
   "metadata": {},
   "outputs": [],
   "source": []
  }
 ],
 "metadata": {
  "kernelspec": {
   "display_name": "Python 3 (ipykernel)",
   "language": "python",
   "name": "python3"
  },
  "language_info": {
   "codemirror_mode": {
    "name": "ipython",
    "version": 3
   },
   "file_extension": ".py",
   "mimetype": "text/x-python",
   "name": "python",
   "nbconvert_exporter": "python",
   "pygments_lexer": "ipython3",
   "version": "3.9.12"
  }
 },
 "nbformat": 4,
 "nbformat_minor": 5
}
