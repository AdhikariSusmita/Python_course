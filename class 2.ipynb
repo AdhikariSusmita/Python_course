{
 "cells": [
  {
   "cell_type": "code",
   "execution_count": null,
   "id": "e75d9978",
   "metadata": {},
   "outputs": [],
   "source": [
    "# if <condition>:\n",
    "#    <operation>\n",
    "# elif<condition>:\n",
    "#    <operation>\n",
    "#....\n",
    "#  else:\n",
    "#    <operation>"
   ]
  },
  {
   "cell_type": "code",
   "execution_count": null,
   "id": "4fda7023",
   "metadata": {},
   "outputs": [],
   "source": [
    "# > <> >= <= == !="
   ]
  },
  {
   "cell_type": "code",
   "execution_count": 1,
   "id": "639e24d0",
   "metadata": {},
   "outputs": [
    {
     "name": "stdout",
     "output_type": "stream",
     "text": [
      "True\n"
     ]
    }
   ],
   "source": [
    "a = 2\n",
    "b = 3\n",
    "print(a!=b)"
   ]
  },
  {
   "cell_type": "code",
   "execution_count": 2,
   "id": "5704946b",
   "metadata": {},
   "outputs": [
    {
     "name": "stdout",
     "output_type": "stream",
     "text": [
      "True\n"
     ]
    }
   ],
   "source": [
    "a = 10\n",
    "b = 20\n",
    "print(a!=b)"
   ]
  },
  {
   "cell_type": "code",
   "execution_count": 3,
   "id": "75e08b70",
   "metadata": {},
   "outputs": [
    {
     "name": "stdout",
     "output_type": "stream",
     "text": [
      "False\n"
     ]
    }
   ],
   "source": [
    "a =  10\n",
    "b = 20\n",
    "print(a>b)"
   ]
  },
  {
   "cell_type": "code",
   "execution_count": 4,
   "id": "c9a9a248",
   "metadata": {},
   "outputs": [
    {
     "name": "stdout",
     "output_type": "stream",
     "text": [
      "False\n"
     ]
    }
   ],
   "source": [
    "a = 20\n",
    "b = 10\n",
    "print(a<b)"
   ]
  },
  {
   "cell_type": "code",
   "execution_count": 6,
   "id": "5018c84d",
   "metadata": {},
   "outputs": [
    {
     "name": "stdout",
     "output_type": "stream",
     "text": [
      "enter a=10\n",
      "10 is even\n"
     ]
    }
   ],
   "source": [
    "a = int(input('enter a='))\n",
    "\n",
    "if(a%2) ==0:\n",
    "    print(a, \"is even\")\n",
    "    \n",
    "else:\n",
    "    print(a,\"is odd\")\n",
    "    \n",
    "    \n",
    "    "
   ]
  },
  {
   "cell_type": "code",
   "execution_count": 12,
   "id": "56b6d985",
   "metadata": {},
   "outputs": [
    {
     "name": "stdout",
     "output_type": "stream",
     "text": [
      "enter a=3\n",
      "enter b=4\n",
      "4 is greater\n"
     ]
    }
   ],
   "source": [
    "a = int(input(\"enter a=\"))\n",
    "b = int(input(\"enter b=\"))\n",
    "if a>b:\n",
    "    print(a,\"is greater\")\n",
    "elif a<b:\n",
    "    print(b,\"is greater\")\n",
    "    \n",
    "else:\n",
    "    print(\"both is equal\")"
   ]
  },
  {
   "cell_type": "code",
   "execution_count": null,
   "id": "302f87a0",
   "metadata": {},
   "outputs": [],
   "source": [
    "a = int(input(\"enter a=\"))\n",
    "b = int(input(\"enter b=\"))\n",
    "o = input(\"Enter + - * / \")\n",
    "if o == \"+\":\n",
    "    print(a+b)\n",
    "elif o == \"-\":\n",
    "        print(a-b)\n",
    "elif o == \"*\":\n",
    "    print(a*b)\n",
    "elif o ==\"/\":\n",
    "    print(a/b)\n",
    "else:\n",
    "    print(\"Invalid operator\")\n",
    "        "
   ]
  },
  {
   "cell_type": "code",
   "execution_count": null,
   "id": "90ad06a1",
   "metadata": {},
   "outputs": [],
   "source": []
  }
 ],
 "metadata": {
  "kernelspec": {
   "display_name": "Python 3 (ipykernel)",
   "language": "python",
   "name": "python3"
  },
  "language_info": {
   "codemirror_mode": {
    "name": "ipython",
    "version": 3
   },
   "file_extension": ".py",
   "mimetype": "text/x-python",
   "name": "python",
   "nbconvert_exporter": "python",
   "pygments_lexer": "ipython3",
   "version": "3.9.12"
  }
 },
 "nbformat": 4,
 "nbformat_minor": 5
}
